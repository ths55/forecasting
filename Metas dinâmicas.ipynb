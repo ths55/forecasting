{
 "cells": [
  {
   "cell_type": "markdown",
   "metadata": {
    "application/vnd.databricks.v1+cell": {
     "cellMetadata": {
      "byteLimit": 2048000,
      "rowLimit": 10000
     },
     "inputWidgets": {},
     "nuid": "c22a920e-15fe-418d-87dc-6ea9a064f92d",
     "showTitle": false,
     "title": ""
    }
   },
   "source": [
    "## Criação das metas dinâmicas - band.com - Data Lake Vibra\n",
    "### Etapa: Refined\n",
    "#### Responsável: Thaís Gonçalves\n",
    "\n",
    "| Responsável | Data Alteração | Alteração|\n",
    "|---|---|---|\n",
    "| Thaís Gonçalves | 04/09/2024 | Implementação |"
   ]
  },
  {
   "cell_type": "markdown",
   "metadata": {
    "application/vnd.databricks.v1+cell": {
     "cellMetadata": {
      "byteLimit": 2048000,
      "rowLimit": 10000
     },
     "inputWidgets": {},
     "nuid": "ab371c9a-935a-4c7c-9632-7cd28bb39b28",
     "showTitle": false,
     "title": ""
    }
   },
   "source": [
    "#### Criação das metas dinâmicas para sessões, usuários visitantes, usuários cadastrados, impressões e receita programática por dia\n",
    "#### band.com"
   ]
  },
  {
   "cell_type": "code",
   "execution_count": 0,
   "metadata": {
    "application/vnd.databricks.v1+cell": {
     "cellMetadata": {
      "byteLimit": 2048000,
      "rowLimit": 10000
     },
     "inputWidgets": {},
     "nuid": "18459699-fcc9-4279-b1ab-9de2b54228b3",
     "showTitle": false,
     "title": ""
    }
   },
   "outputs": [],
   "source": [
    "from pyspark.sql import functions as F\n",
    "from pyspark.sql import Window\n",
    "\n",
    "# Filtra colunas da tabela do GA para otimizar o código\n",
    "df_events = (\n",
    "    spark.table(\"gold.google_analytics4_site_events\")\n",
    "    .filter(F.col(\"event_date\") >= \"2024-01-01\")\n",
    "    .select(\"event_date\", \"client_id\", \"ga_session_id\", \"user_id\", \"event_name\")\n",
    ")\n",
    "\n",
    "# Agrupa dados da tabela do GA\n",
    "df_resultados_diarios = (\n",
    "    df_events.groupBy(\"event_date\")\n",
    "    .agg(\n",
    "        F.countDistinct(F.concat(F.col(\"client_id\"), F.col(\"ga_session_id\"))).alias(\"sessions\"),\n",
    "        F.countDistinct(F.col(\"client_id\")).alias(\"users_visitors\"),\n",
    "        (F.sum(F.when(F.col(\"event_name\") == \"page_view\", 1).otherwise(0)) / \n",
    "         F.countDistinct(F.concat(F.col(\"client_id\"), F.col(\"ga_session_id\")))).alias(\"pageview_per_session\")\n",
    "    )\n",
    "    .withColumnRenamed(\"event_date\", \"date\")\n",
    ")\n",
    "\n",
    "# Carrega e filtra dados da tabela de metas\n",
    "df_goals = (\n",
    "    spark.table(\"refined.website_daily_goals\")\n",
    "    .filter(F.col(\"date\") >= \"2024-01-01\")\n",
    "    .select(\"date\", \"sessions\", \"users\", \"registered_users\", \"ad_impressions_prog\", \"ad_impressions_venda_dir\", \"revenue_prog\")\n",
    "    .groupBy(\"date\")\n",
    "    .agg(\n",
    "        F.sum(\"sessions\").alias(\"meta_sessions\"),\n",
    "        F.sum(\"users\").alias(\"meta_users_visitors\"),\n",
    "        F.sum(\"registered_users\").alias(\"meta_users_cadastrados\"),\n",
    "        (F.sum(\"ad_impressions_prog\") + F.sum(\"ad_impressions_venda_dir\")).alias(\"meta_impressions\"),\n",
    "        F.sum(\"revenue_prog\").alias(\"meta_revenue_prog\")\n",
    "    )\n",
    ")\n",
    "\n",
    "# Carrega e filtra dados da tabela do admanager do UOL\n",
    "df_admanager = (\n",
    "    spark.table(\"gold.admanager_relatorio_fromexcel\")\n",
    "    .filter(F.col(\"date\") >= \"2024-01-01\")\n",
    "    .groupBy(\"date\")\n",
    "    .agg(\n",
    "        F.sum(\"total_impressions\").alias(\"impressions\"),\n",
    "        F.sum(\"total_CPM_CPC_CPD_and_vCPM_revenue\").alias(\"receita_prog\")\n",
    "    )\n",
    ")\n",
    "\n",
    "# Realizar o left join entre as tabelas\n",
    "df_balanco_diario = (\n",
    "    df_goals\n",
    "    .join(df_resultados_diarios, on=\"date\", how=\"left\") \n",
    "    .join(df_admanager, on=\"date\", how=\"left\") \n",
    ")\n",
    "\n",
    "# Calcula as colunas de resíduos\n",
    "df_balanco_diario = df_balanco_diario.withColumns({\n",
    "    \"residuo_sessions\": F.when(F.col(\"sessions\") > 0, F.col(\"sessions\") - F.col(\"meta_sessions\")).otherwise(0),\n",
    "    \"residuo_users_visitors\": F.when(F.col(\"users_visitors\") > 0, F.col(\"users_visitors\") - F.col(\"meta_users_visitors\")).otherwise(0),\n",
    "    \"residuo_impressions\": F.when(F.col(\"impressions\") > 0, F.col(\"impressions\") - F.col(\"meta_impressions\")).otherwise(0),\n",
    "    \"residuo_revenue_prog\": F.when(F.col(\"receita_prog\") > 0, F.col(\"receita_prog\") - F.col(\"meta_revenue_prog\")).otherwise(0)\n",
    "})\n",
    "\n",
    "# Adiciona uma coluna de contagem de dias do ano\n",
    "df_balanco_diario = df_balanco_diario.withColumn(\n",
    "    \"dias_restantes_no_ano\",\n",
    "    F.when(F.year(F.col(\"date\")) % 4 == 0, 366 - F.dayofyear(F.col(\"date\")) + 1)  \n",
    "    .otherwise(365 - F.dayofyear(F.col(\"date\")) + 1)  \n",
    ")\n",
    "\n",
    "# Substituir valores nulos por 0\n",
    "df_balanco_diario = df_balanco_diario.fillna({\"sessions\": 0, \"users_visitors\": 0, \"impressions\": 0, \"receita_prog\": 0, \"pageview_per_session\": 0})"
   ]
  },
  {
   "cell_type": "code",
   "execution_count": 0,
   "metadata": {
    "application/vnd.databricks.v1+cell": {
     "cellMetadata": {
      "byteLimit": 2048000,
      "rowLimit": 10000
     },
     "inputWidgets": {},
     "nuid": "e3a5c219-bfca-468e-9ec9-ea5238b5d0b5",
     "showTitle": false,
     "title": ""
    }
   },
   "outputs": [
    {
     "output_type": "stream",
     "name": "stdout",
     "output_type": "stream",
     "text": [
      "Dias restantes na primeira data com sessions = 0: 111\nPrimeira data sem dados = 0: 2024-09-12\nResiduo de sessões por dia: -375607.6126126126\nResiduo de users por dia: 68487.16216216216\nResiduo de impressões por dia: -3173468.8198198196\nResiduo de receita por dia: 4955624.408865022\n"
     ]
    }
   ],
   "source": [
    "from pyspark.sql import functions as F\n",
    "\n",
    "# Filtra a primeira data em que 'sessions' é 0 \n",
    "df_max_date = (\n",
    "    df_balanco_diario\n",
    "    .filter(F.col(\"sessions\") == 0)  \n",
    "    .orderBy(F.col(\"date\").asc())  \n",
    "    .limit(1)  \n",
    ")\n",
    "\n",
    "# Extrai o valor de 'dias_restantes_no_ano' e 'date'\n",
    "primeira_data_row = df_max_date.select(\"dias_restantes_no_ano\", \"date\").first()\n",
    "\n",
    "# Verifica se a data foi encontrada\n",
    "if primeira_data_row:\n",
    "    dias_restantes_ano = primeira_data_row[\"dias_restantes_no_ano\"]\n",
    "    max_date = primeira_data_row[\"date\"]\n",
    "    \n",
    "# Calcula a soma de cada resíduo e divide pelos dias restantes do ano\n",
    "df_soma_residuos = (\n",
    "    df_balanco_diario\n",
    "    .agg(\n",
    "        (F.sum(\"residuo_sessions\") / dias_restantes_ano).alias(\"residuo_sessions_por_dia\"),\n",
    "        (F.sum(\"residuo_users_visitors\") / dias_restantes_ano).alias(\"residuo_users_visitors_por_dia\"),\n",
    "        (F.sum(\"residuo_impressions\") / dias_restantes_ano).alias(\"residuo_impressions_por_dia\"),\n",
    "        (F.sum(\"residuo_revenue_prog\") / dias_restantes_ano).alias(\"residuo_revenue_prog_por_dia\")\n",
    "    )\n",
    ")\n",
    "    \n",
    "# Guarda a soma de cada resíduo\n",
    "soma_residuos_row = df_soma_residuos.first()\n",
    "residuo_sessions_por_dia = soma_residuos_row[\"residuo_sessions_por_dia\"]\n",
    "residuo_users_visitors_por_dia = soma_residuos_row[\"residuo_users_visitors_por_dia\"]\n",
    "residuo_impressions_por_dia = soma_residuos_row[\"residuo_impressions_por_dia\"]\n",
    "residuo_revenue_prog_por_dia = soma_residuos_row[\"residuo_revenue_prog_por_dia\"]\n",
    "\n",
    "# Ajustaras metas quando o valor realizado for menor ou igual a 0\n",
    "df_metas_ajustadas = (\n",
    "    df_balanco_diario\n",
    "    .withColumn(\n",
    "        \"ajuste_meta_sessions\", \n",
    "        F.when(F.col(\"sessions\") <= 0, F.col(\"meta_sessions\") + residuo_sessions_por_dia)\n",
    "        .otherwise(F.col(\"meta_sessions\"))\n",
    "    )\n",
    "    .withColumn(\n",
    "        \"ajuste_meta_users_visitors\", \n",
    "        F.when(F.col(\"users_visitors\") <= 0, F.col(\"meta_users_visitors\") + residuo_users_visitors_por_dia)\n",
    "        .otherwise(F.col(\"meta_users_visitors\"))\n",
    "    )\n",
    "    .withColumn(\n",
    "        \"ajuste_meta_impressions\", \n",
    "        F.when(F.col(\"impressions\") <= 0, F.col(\"meta_impressions\") + residuo_impressions_por_dia)\n",
    "        .otherwise(F.col(\"meta_impressions\"))\n",
    "    )\n",
    "    .withColumn(\n",
    "        \"ajuste_meta_revenue_prog\", \n",
    "        F.when(F.col(\"receita_prog\") <= 0, F.col(\"meta_revenue_prog\") + residuo_revenue_prog_por_dia)\n",
    "        .otherwise(F.col(\"meta_revenue_prog\"))\n",
    "    )\n",
    ")\n",
    "\n",
    "# Prints\n",
    "print(f\"Dias restantes na primeira data com sessions = 0: {dias_restantes_ano}\")\n",
    "print(f\"Primeira data sem dados = 0: {max_date}\")\n",
    "print(f\"Residuo de sessões por dia: {residuo_sessions_por_dia}\")\n",
    "print(f\"Residuo de users por dia: {residuo_users_visitors_por_dia}\")\n",
    "print(f\"Residuo de impressões por dia: {residuo_impressions_por_dia}\")\n",
    "print(f\"Residuo de receita por dia: {residuo_revenue_prog_por_dia}\")"
   ]
  },
  {
   "cell_type": "code",
   "execution_count": 0,
   "metadata": {
    "application/vnd.databricks.v1+cell": {
     "cellMetadata": {
      "byteLimit": 2048000,
      "rowLimit": 10000
     },
     "collapsed": true,
     "inputWidgets": {},
     "nuid": "f2b0bdfc-f36b-44ac-aa67-142b1dbb6820",
     "showTitle": false,
     "title": ""
    }
   },
   "outputs": [],
   "source": [
    "from pyspark.sql import functions as F\n",
    "from pyspark.sql import Window\n",
    "\n",
    "# Realiza o cálculo ajustado utilizando as variáveis de resíduos diários, aplicando o resíduo com o sinal invertido (multiplicado por -1) nas metas futuras\n",
    "df_metas_ajustadas = (\n",
    "    df_balanco_diario\n",
    "    .withColumn(\n",
    "        \"ajuste_meta_sessions\", \n",
    "        F.when(F.col(\"sessions\") == 0, F.round(F.col(\"meta_sessions\") + F.lit(residuo_sessions_por_dia) * -1).cast(\"int\"))\n",
    "        .otherwise(F.round(F.col(\"meta_sessions\")).cast(\"int\"))\n",
    "    )\n",
    "    .withColumn(\n",
    "        \"ajuste_meta_users_visitors\", \n",
    "        F.when(F.col(\"sessions\") == 0, F.round(F.col(\"meta_users_visitors\") + F.lit(residuo_users_visitors_por_dia) * -1).cast(\"int\"))\n",
    "        .otherwise(F.round(F.col(\"meta_users_visitors\")).cast(\"int\"))\n",
    "    )\n",
    "    .withColumn(\n",
    "        \"ajuste_meta_impressions\", \n",
    "        F.when(F.col(\"sessions\") == 0, F.round(F.col(\"meta_impressions\") + F.lit(residuo_impressions_por_dia) * -1).cast(\"int\"))\n",
    "        .otherwise(F.round(F.col(\"meta_impressions\")).cast(\"int\"))\n",
    "    )\n",
    "    .withColumn(\n",
    "        \"ajuste_meta_revenue_prog\", \n",
    "        F.when(F.col(\"sessions\") == 0, F.round(F.col(\"meta_revenue_prog\") + F.lit(residuo_revenue_prog_por_dia) * -1).cast(\"int\"))\n",
    "        .otherwise(F.round(F.col(\"meta_revenue_prog\")).cast(\"int\"))\n",
    "    )\n",
    ")\n",
    "\n",
    "# Monta tabela final\n",
    "df_metas_dinamicas = df_metas_ajustadas.select(\n",
    "    \"date\", \n",
    "    \"sessions\", \n",
    "    \"users_visitors\", \n",
    "    \"impressions\", \n",
    "    \"receita_prog\", \n",
    "    \"meta_sessions\", \n",
    "    \"meta_users_visitors\", \n",
    "    \"meta_impressions\", \n",
    "    \"meta_revenue_prog\", \n",
    "    \"residuo_sessions\", \n",
    "    \"residuo_users_visitors\", \n",
    "    \"residuo_impressions\", \n",
    "    \"residuo_revenue_prog\",\n",
    "    \"ajuste_meta_sessions\", \n",
    "    \"ajuste_meta_users_visitors\", \n",
    "    \"ajuste_meta_impressions\", \n",
    "    \"ajuste_meta_revenue_prog\"\n",
    ")\n",
    "\n",
    "# Drop da tabela se já existir\n",
    "spark.sql(\"DROP TABLE IF EXISTS refined.vw_site_daily_goals_dinamic\")\n",
    "\n",
    "# Escrever o resultado final na tabela Delta\n",
    "df_metas_dinamicas.write.format(\"delta\") \\\n",
    "  .mode(\"overwrite\") \\\n",
    "  .saveAsTable(\"refined.vw_site_daily_goals_dinamic\")"
   ]
  },
  {
   "cell_type": "markdown",
   "metadata": {
    "application/vnd.databricks.v1+cell": {
     "cellMetadata": {
      "byteLimit": 2048000,
      "rowLimit": 10000
     },
     "inputWidgets": {},
     "nuid": "a3adb8e6-fceb-4997-a417-896c6713269c",
     "showTitle": false,
     "title": ""
    }
   },
   "source": [
    "#### Criação das metas dinâmicas para usuários visitantes agrupados por mês\n",
    "#### band.com"
   ]
  },
  {
   "cell_type": "code",
   "execution_count": 0,
   "metadata": {
    "application/vnd.databricks.v1+cell": {
     "cellMetadata": {
      "byteLimit": 2048000,
      "rowLimit": 10000
     },
     "inputWidgets": {},
     "nuid": "11dd1d64-8092-4182-9c70-8d00c2d7a945",
     "showTitle": false,
     "title": ""
    }
   },
   "outputs": [],
   "source": [
    "from pyspark.sql import functions as F\n",
    "\n",
    "# Filtra e agrupa dados de users da tabela do GA por mês e ano\n",
    "df_resultados_users_mensais_ano = (\n",
    "    spark.table(\"gold.google_analytics4_site_events\")\n",
    "    .filter(F.col(\"event_date\") >= \"2024-01-01\") \n",
    "    .groupBy(F.year(\"event_date\").alias(\"year\"), F.month(\"event_date\").alias(\"month\"))\n",
    "    .agg(\n",
    "        F.countDistinct(F.col(\"client_id\")).alias(\"users_visitors\")  \n",
    "    )\n",
    ")\n",
    "\n",
    "# Carrega e filtra dados da tabela de metas por mês e ano\n",
    "df_goals_mensal_ano = (\n",
    "    spark.table(\"refined.website_daily_goals\")\n",
    "    .filter(F.col(\"date\") >= \"2024-01-01\") \n",
    "    .groupBy(F.year(\"date\").alias(\"year\"), F.month(\"date\").alias(\"month\"))  \n",
    "    .agg(\n",
    "        F.sum(\"users\").alias(\"meta_users_visitors\")  \n",
    "    )\n",
    ")\n",
    "\n",
    "# Realiza join entre as tabelas agrupadas por mês e ano\n",
    "df_balanco_diario_mes_ano = (\n",
    "    df_goals_mensal_ano\n",
    "    .join(df_resultados_users_mensais_ano, on=[\"year\", \"month\"], how=\"left\")  \n",
    ")\n",
    "\n",
    "# Calcula as colunas de resíduos (diferença entre usuários realizados e a meta)\n",
    "df_balanco_diario_mes_ano = df_balanco_diario_mes_ano.withColumn(\n",
    "    \"residuo_users_visitors\", \n",
    "    F.when(F.col(\"users_visitors\").isNotNull(), F.col(\"users_visitors\") - F.col(\"meta_users_visitors\")).otherwise(0)\n",
    ")\n",
    "\n",
    "# Adiciona uma coluna de contagem de meses restantes no ano\n",
    "df_balanco_diario_mes_ano = df_balanco_diario_mes_ano.withColumn(\n",
    "    \"meses_restantes_no_ano\",\n",
    "    12 - F.col(\"month\") \n",
    ")\n",
    "\n",
    "# Substitui valores nulos por 0\n",
    "df_balanco_diario_mes_ano = df_balanco_diario_mes_ano.fillna({\"users_visitors\": 0, \"residuo_users_visitors\": 0, \"meta_users_visitors\": 0})\n"
   ]
  },
  {
   "cell_type": "code",
   "execution_count": 0,
   "metadata": {
    "application/vnd.databricks.v1+cell": {
     "cellMetadata": {
      "byteLimit": 2048000,
      "rowLimit": 10000
     },
     "inputWidgets": {},
     "nuid": "201086b7-0cfd-470c-9f9c-0384ae5fe6f8",
     "showTitle": false,
     "title": ""
    }
   },
   "outputs": [
    {
     "output_type": "stream",
     "name": "stdout",
     "output_type": "stream",
     "text": [
      "+----+-----+-------------------+--------------+----------------------+----------------------+\n|year|month|meta_users_visitors|users_visitors|residuo_users_visitors|meses_restantes_no_ano|\n+----+-----+-------------------+--------------+----------------------+----------------------+\n|2024|    1|           10505623|      10182636|               -322987|                    11|\n|2024|    2|           10279348|      10328020|                 48672|                    10|\n|2024|    3|           10720182|      10755480|                 35298|                     9|\n|2024|    4|            9267096|       9171132|                -95964|                     8|\n|2024|    5|           11763423|      11541727|               -221696|                     7|\n|2024|    6|            9396019|       9201194|               -194825|                     6|\n|2024|    7|           13989463|       9123911|              -4865552|                     5|\n|2024|    8|           15580414|       9445366|              -6135048|                     4|\n|2024|    9|           14916990|       3648104|             -11268886|                     3|\n|2024|   10|           15889112|             0|                     0|                     2|\n|2024|   11|           15330000|             0|                     0|                     1|\n|2024|   12|           12362242|             0|                     0|                     0|\n+----+-----+-------------------+--------------+----------------------+----------------------+\n\n"
     ]
    }
   ],
   "source": [
    "df_balanco_diario_mes_ano.orderBy(\"year\", \"month\").show()"
   ]
  },
  {
   "cell_type": "code",
   "execution_count": 0,
   "metadata": {
    "application/vnd.databricks.v1+cell": {
     "cellMetadata": {
      "byteLimit": 2048000,
      "rowLimit": 10000
     },
     "inputWidgets": {},
     "nuid": "fb5c4f4e-290d-447b-b623-6e67a5b1e4db",
     "showTitle": false,
     "title": ""
    }
   },
   "outputs": [
    {
     "output_type": "stream",
     "name": "stdout",
     "output_type": "stream",
     "text": [
      "Meses restantes na primeira data com users_visitors = 0: 2\nPrimeira data sem dados = ano: 2024, mês: 10\nResíduo de users por mês: -11510494.0\n"
     ]
    }
   ],
   "source": [
    "from pyspark.sql import functions as F\n",
    "\n",
    "# Filtra a primeira data em que 'users_visitors' é 0 \n",
    "df_max_mes_ano_ = (\n",
    "    df_balanco_diario_mes_ano\n",
    "    .filter(F.col(\"users_visitors\") == 0)  \n",
    "    .orderBy(F.col(\"year\").asc(), F.col(\"month\").asc())  # Ordenar por ano e mês\n",
    "    .limit(1)  \n",
    ")\n",
    "\n",
    "# Extrai o valor de 'year', 'month', e 'meses_restantes_no_ano'\n",
    "primeira_mes_ano_row = df_max_mes_ano_.select(\"year\", \"month\", \"meses_restantes_no_ano\").first()\n",
    "\n",
    "# Verifica se a data foi encontrada\n",
    "if primeira_mes_ano_row:\n",
    "    max_year = primeira_mes_ano_row[\"year\"]\n",
    "    max_month = primeira_mes_ano_row[\"month\"]\n",
    "    meses_restantes_no_ano = primeira_mes_ano_row[\"meses_restantes_no_ano\"]\n",
    "else:\n",
    "    max_year = None\n",
    "    max_month = None\n",
    "    meses_restantes_no_ano = 0  # Ajustado para 0 caso não tenha meses restantes\n",
    "\n",
    "# Calcula a soma de cada resíduo e divide pelos meses restantes no ano\n",
    "if meses_restantes_no_ano > 0:  # Verifica se ainda restam meses\n",
    "    df_soma_residuos = (\n",
    "        df_balanco_diario_mes_ano\n",
    "        .agg(\n",
    "            (F.sum(\"residuo_users_visitors\") / meses_restantes_no_ano).alias(\"residuo_users_visitors_por_mes\")\n",
    "        )\n",
    "    )\n",
    "    \n",
    "    # Guarda a soma de cada resíduo\n",
    "    soma_residuos_row = df_soma_residuos.first()\n",
    "    residuo_users_visitors_por_mes_ano = soma_residuos_row[\"residuo_users_visitors_por_mes\"] if soma_residuos_row else 0\n",
    "else:\n",
    "    residuo_users_visitors_por_mes_ano = 0\n",
    "\n",
    "# Ajusta as metas quando o valor realizado for menor ou igual a 0\n",
    "df_metas_ajustadas = (\n",
    "    df_balanco_diario_mes_ano  # Consistência com o DataFrame de origem\n",
    "    .withColumn(\n",
    "        \"ajuste_meta_users_visitors\", \n",
    "        F.when(F.col(\"users_visitors\") <= 0, F.col(\"meta_users_visitors\") + residuo_users_visitors_por_mes_ano)\n",
    "        .otherwise(F.col(\"meta_users_visitors\"))\n",
    "    )\n",
    ")\n",
    "\n",
    "# Prints\n",
    "print(f\"Meses restantes na primeira data com users_visitors = 0: {meses_restantes_no_ano}\")\n",
    "print(f\"Primeira data sem dados = ano: {max_year}, mês: {max_month}\")\n",
    "print(f\"Resíduo de users por mês: {residuo_users_visitors_por_mes_ano}\")\n"
   ]
  },
  {
   "cell_type": "code",
   "execution_count": 0,
   "metadata": {
    "application/vnd.databricks.v1+cell": {
     "cellMetadata": {
      "byteLimit": 2048000,
      "rowLimit": 10000
     },
     "collapsed": true,
     "inputWidgets": {},
     "nuid": "021928d9-def5-4dfe-acbb-55aaae706317",
     "showTitle": false,
     "title": ""
    }
   },
   "outputs": [
    {
     "output_type": "stream",
     "name": "stdout",
     "output_type": "stream",
     "text": [
      "Dias restantes na primeira data com sessions = 0: 111\nPrimeira data sem dados = 0: 2024-09-12\nResiduo de users por mês: 68487.16216216216\n"
     ]
    }
   ],
   "source": [
    "from pyspark.sql import functions as F\n",
    "\n",
    "# Filtra a primeira data em que 'sessions' é 0 \n",
    "df_max_date = (\n",
    "    df_balanco_diario\n",
    "    .filter(F.col(\"sessions\") == 0)  \n",
    "    .orderBy(F.col(\"date\").asc())  \n",
    "    .limit(1)  \n",
    ")\n",
    "\n",
    "# Extrai o valor de 'dias_restantes_no_ano' e 'date'\n",
    "primeira_data_row = df_max_date.select(\"dias_restantes_no_ano\", \"date\").first()\n",
    "\n",
    "# Verifica se a data foi encontrada\n",
    "if primeira_data_row:\n",
    "    dias_restantes_do_mes_ano = primeira_data_row[\"dias_restantes_no_ano\"]\n",
    "    max_date = primeira_data_row[\"date\"]\n",
    "    \n",
    "# Calcula a soma de cada resíduo e divide pelos dias restantes do mes\n",
    "df_soma_residuos = (\n",
    "    df_balanco_diario\n",
    "    .agg(\n",
    "        (F.sum(\"residuo_users_visitors\") / dias_restantes_ano).alias(\"residuo_users_visitors_por_dia\")\n",
    "    )\n",
    ")\n",
    "    \n",
    "# Guarda a soma de cada resíduo\n",
    "soma_residuos_row = df_soma_residuos.first()\n",
    "residuo_users_visitors_por_mes_ano = soma_residuos_row[\"residuo_users_visitors_por_dia\"]\n",
    "\n",
    "\n",
    "# Ajustaras metas quando o valor realizado for menor ou igual a 0\n",
    "df_metas_ajustadas = (\n",
    "    df_balanco_diario\n",
    "    .withColumn(\n",
    "        \"ajuste_meta_users_visitors\", \n",
    "        F.when(F.col(\"users_visitors\") <= 0, F.col(\"meta_users_visitors\") + residuo_users_visitors_por_mes_ano)\n",
    "        .otherwise(F.col(\"meta_users_visitors\"))\n",
    "    )\n",
    ")\n",
    "\n",
    "# Prints\n",
    "print(f\"Dias restantes na primeira data com sessions = 0: {dias_restantes_ano}\")\n",
    "print(f\"Primeira data sem dados = 0: {max_date}\")\n",
    "print(f\"Residuo de users por mês: {residuo_users_visitors_por_mes_ano}\")\n"
   ]
  },
  {
   "cell_type": "code",
   "execution_count": 0,
   "metadata": {
    "application/vnd.databricks.v1+cell": {
     "cellMetadata": {
      "byteLimit": 2048000,
      "rowLimit": 10000
     },
     "inputWidgets": {},
     "nuid": "d920b760-d7d8-4f1c-89b3-acadfb590db0",
     "showTitle": false,
     "title": ""
    }
   },
   "outputs": [],
   "source": []
  }
 ],
 "metadata": {
  "application/vnd.databricks.v1+notebook": {
   "dashboards": [],
   "environmentMetadata": null,
   "language": "python",
   "notebookMetadata": {
    "mostRecentlyExecutedCommandWithImplicitDF": {
     "commandId": 3052392185396284,
     "dataframes": [
      "_sqldf"
     ]
    },
    "pythonIndentUnit": 2
   },
   "notebookName": "[Metas dinâmicas] band.com",
   "widgets": {}
  }
 },
 "nbformat": 4,
 "nbformat_minor": 0
}
